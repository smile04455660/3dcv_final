{
 "cells": [
  {
   "cell_type": "code",
   "execution_count": 1,
   "metadata": {},
   "outputs": [],
   "source": [
    "import numpy as np"
   ]
  },
  {
   "cell_type": "code",
   "execution_count": 3,
   "metadata": {},
   "outputs": [],
   "source": [
    "def rotation_matrix_from_vectors(vec1, vec2):\n",
    "    \"\"\" Find the rotation matrix that aligns vec1 to vec2\n",
    "    :param vec1: A 3d \"source\" vector\n",
    "    :param vec2: A 3d \"destination\" vector\n",
    "    :return mat: A transform matrix (3x3) which when applied to vec1, aligns it with vec2.\n",
    "    \"\"\"\n",
    "    a, b = (vec1 / np.linalg.norm(vec1)).reshape(3), (vec2 / np.linalg.norm(vec2)).reshape(3)\n",
    "    v = np.cross(a, b)\n",
    "    c = np.dot(a, b)\n",
    "    s = np.linalg.norm(v)\n",
    "    kmat = np.array([[0, -v[2], v[1]], [v[2], 0, -v[0]], [-v[1], v[0], 0]])\n",
    "    rotation_matrix = np.eye(3) + kmat + kmat.dot(kmat) * ((1 - c) / (s ** 2))\n",
    "    return rotation_matrix\n",
    "\n",
    "v1 = np.array([0, 1, 0])\n",
    "v1 = v1/np.linalg.norm(v1)\n",
    "\n",
    "v2 = np.array([0, 0, 1])\n",
    "v2 = v2/np.linalg.norm(v2)"
   ]
  },
  {
   "cell_type": "code",
   "execution_count": 4,
   "metadata": {},
   "outputs": [],
   "source": [
    "R = rotation_matrix_from_vectors(v1, v2)"
   ]
  },
  {
   "cell_type": "code",
   "execution_count": 5,
   "metadata": {},
   "outputs": [
    {
     "data": {
      "text/plain": [
       "(array([0., 1., 0.]), array([0., 0., 1.]), array([0., 0., 1.]))"
      ]
     },
     "execution_count": 5,
     "metadata": {},
     "output_type": "execute_result"
    }
   ],
   "source": [
    "v1, v2, R@v1"
   ]
  },
  {
   "cell_type": "code",
   "execution_count": 6,
   "metadata": {},
   "outputs": [],
   "source": []
  },
  {
   "cell_type": "code",
   "execution_count": 12,
   "metadata": {},
   "outputs": [
    {
     "data": {
      "text/plain": [
       "180.0"
      ]
     },
     "execution_count": 12,
     "metadata": {},
     "output_type": "execute_result"
    }
   ],
   "source": [
    "vec1 = np.array([1, 0, 0])\n",
    "vec2 = np.array([-1, 0, 0])\n",
    "np.rad2deg(angle_between(vec1, v2))"
   ]
  },
  {
   "cell_type": "code",
   "execution_count": 13,
   "metadata": {},
   "outputs": [
    {
     "data": {
      "text/plain": [
       "(array([1, 0, 0]), array([-1,  0,  0]))"
      ]
     },
     "execution_count": 13,
     "metadata": {},
     "output_type": "execute_result"
    }
   ],
   "source": [
    "vec1, -vec1"
   ]
  },
  {
   "cell_type": "code",
   "execution_count": 15,
   "metadata": {},
   "outputs": [
    {
     "data": {
      "text/plain": [
       "array([[-0.3954264 , -0.06010875,  0.54459697],\n",
       "       [-0.3954264 ,  0.6355572 ,  0.54459697],\n",
       "       [ 0.30143332,  0.6355572 ,  0.54459697],\n",
       "       [ 0.30143332, -0.06010875,  0.54459697],\n",
       "       [-0.3954264 , -0.06010875,  2.2854116 ],\n",
       "       [-0.3954264 ,  0.6355572 ,  2.2854116 ],\n",
       "       [ 0.30143332,  0.6355572 ,  2.2854116 ],\n",
       "       [ 0.30143332, -0.06010875,  2.2854116 ]])"
      ]
     },
     "execution_count": 15,
     "metadata": {},
     "output_type": "execute_result"
    }
   ],
   "source": [
    "a = np.array(\n",
    "[[-0.3954264 ,-0.06010875 ,0.54459697],\n",
    " [-0.3954264 , 0.6355572  ,0.54459697],\n",
    " [ 0.30143332, 0.6355572  ,0.54459697],\n",
    " [ 0.30143332,-0.06010875 ,0.54459697],\n",
    " [-0.3954264 ,-0.06010875 ,2.2854116 ],\n",
    " [-0.3954264 , 0.6355572  ,2.2854116 ],\n",
    " [ 0.30143332, 0.6355572  ,2.2854116 ],\n",
    " [ 0.30143332,-0.06010875 ,2.2854116 ]]\n",
    ")\n",
    "\n",
    "a"
   ]
  },
  {
   "cell_type": "code",
   "execution_count": 20,
   "metadata": {},
   "outputs": [
    {
     "data": {
      "text/plain": [
       "array([0.30143332, 0.6355572 , 2.2854116 ])"
      ]
     },
     "execution_count": 20,
     "metadata": {},
     "output_type": "execute_result"
    }
   ],
   "source": [
    "maxs = np.max(a, axis=0)\n",
    "\n",
    "maxs"
   ]
  },
  {
   "cell_type": "code",
   "execution_count": 26,
   "metadata": {},
   "outputs": [
    {
     "data": {
      "text/plain": [
       "(array([[[0., 4.],\n",
       "         [1., 5.]],\n",
       " \n",
       "        [[3., 7.],\n",
       "         [2., 6.]]]),\n",
       " array([[False, False, False],\n",
       "        [False,  True, False],\n",
       "        [ True,  True, False],\n",
       "        [ True, False, False],\n",
       "        [False, False,  True],\n",
       "        [False,  True,  True],\n",
       "        [ True,  True,  True],\n",
       "        [ True, False,  True]]))"
      ]
     },
     "execution_count": 26,
     "metadata": {},
     "output_type": "execute_result"
    }
   ],
   "source": [
    "ind = np.zeros((2, 2, 2))\n",
    "# ind[np.equal(a, maxs)] = list(range(8))\n",
    "# ind, np.equal(a, maxs)\n",
    "bools = np.equal(a, maxs)\n",
    "for i, (xb,yb,zb) in enumerate(bools.astype(int)):\n",
    "    ind[xb, yb, zb] = i\n",
    "ind, bools"
   ]
  },
  {
   "cell_type": "code",
   "execution_count": 40,
   "metadata": {},
   "outputs": [
    {
     "data": {
      "text/plain": [
       "[array([-0.60551273,  0.        , -0.        ]),\n",
       " array([ 0.       , -0.6065518, -0.       ]),\n",
       " array([-0.        ,  0.        , -0.24239079])]"
      ]
     },
     "execution_count": 40,
     "metadata": {},
     "output_type": "execute_result"
    }
   ],
   "source": [
    "def get_normal(points):\n",
    "    mid = np.mean(points, axis=0)\n",
    "    u = points[0] - mid\n",
    "    v = points[1] - mid\n",
    "    return np.cross(u, v)\n",
    "\n",
    "def get_normals(points: np.ndarray):\n",
    "    bools = np.equal(points, np.max(points, axis=0))\n",
    "    ret = []\n",
    "\n",
    "    for i in range(3):\n",
    "        test_points = a[bools[:, i] == True]\n",
    "        normal = get_normal(test_points)\n",
    "        ret.append(normal)\n",
    "    \n",
    "    return ret\n",
    "\n",
    "get_normals(a)"
   ]
  },
  {
   "cell_type": "code",
   "execution_count": 37,
   "metadata": {},
   "outputs": [
    {
     "data": {
      "text/plain": [
       "[-0.5539627222056202,\n",
       " -0.5539627222056202,\n",
       " -0.5539627222056202,\n",
       " -0.5539627222056202]"
      ]
     },
     "execution_count": 37,
     "metadata": {},
     "output_type": "execute_result"
    }
   ],
   "source": []
  },
  {
   "cell_type": "code",
   "execution_count": 46,
   "metadata": {},
   "outputs": [
    {
     "name": "stdout",
     "output_type": "stream",
     "text": [
      "[0.36787944 1.        ]\n"
     ]
    }
   ],
   "source": [
    "\n",
    "def weighted_pts(pts_list, weight_num=10, std_inv=10):\n",
    "    weights=np.exp(-(np.arange(weight_num)/std_inv)**2)[::-1] # wn\n",
    "    print(weights)\n",
    "\n",
    "weighted_pts([], 2, 1.0)"
   ]
  },
  {
   "cell_type": "code",
   "execution_count": null,
   "metadata": {},
   "outputs": [],
   "source": []
  }
 ],
 "metadata": {
  "kernelspec": {
   "display_name": ".venv",
   "language": "python",
   "name": "python3"
  },
  "language_info": {
   "codemirror_mode": {
    "name": "ipython",
    "version": 3
   },
   "file_extension": ".py",
   "mimetype": "text/x-python",
   "name": "python",
   "nbconvert_exporter": "python",
   "pygments_lexer": "ipython3",
   "version": "3.9.8"
  }
 },
 "nbformat": 4,
 "nbformat_minor": 2
}
